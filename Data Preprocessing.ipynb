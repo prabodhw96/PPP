{
 "cells": [
  {
   "cell_type": "code",
   "execution_count": 1,
   "metadata": {},
   "outputs": [],
   "source": [
    "import numpy as np\n",
    "import pandas as pd"
   ]
  },
  {
   "cell_type": "code",
   "execution_count": 2,
   "metadata": {},
   "outputs": [],
   "source": [
    "df = pd.read_csv(\"data/API_PA.NUS.PRVT.PP_DS2_en_csv_v2_4157455.csv\", skiprows=3)"
   ]
  },
  {
   "cell_type": "code",
   "execution_count": 3,
   "metadata": {},
   "outputs": [
    {
     "data": {
      "text/plain": [
       "Index(['Country Name', 'Country Code', 'Indicator Name', 'Indicator Code',\n",
       "       '1960', '1961', '1962', '1963', '1964', '1965', '1966', '1967', '1968',\n",
       "       '1969', '1970', '1971', '1972', '1973', '1974', '1975', '1976', '1977',\n",
       "       '1978', '1979', '1980', '1981', '1982', '1983', '1984', '1985', '1986',\n",
       "       '1987', '1988', '1989', '1990', '1991', '1992', '1993', '1994', '1995',\n",
       "       '1996', '1997', '1998', '1999', '2000', '2001', '2002', '2003', '2004',\n",
       "       '2005', '2006', '2007', '2008', '2009', '2010', '2011', '2012', '2013',\n",
       "       '2014', '2015', '2016', '2017', '2018', '2019', '2020', '2021',\n",
       "       'Unnamed: 66'],\n",
       "      dtype='object')"
      ]
     },
     "execution_count": 3,
     "metadata": {},
     "output_type": "execute_result"
    }
   ],
   "source": [
    "df.columns"
   ]
  },
  {
   "cell_type": "code",
   "execution_count": 4,
   "metadata": {},
   "outputs": [
    {
     "data": {
      "text/html": [
       "<div>\n",
       "<style scoped>\n",
       "    .dataframe tbody tr th:only-of-type {\n",
       "        vertical-align: middle;\n",
       "    }\n",
       "\n",
       "    .dataframe tbody tr th {\n",
       "        vertical-align: top;\n",
       "    }\n",
       "\n",
       "    .dataframe thead th {\n",
       "        text-align: right;\n",
       "    }\n",
       "</style>\n",
       "<table border=\"1\" class=\"dataframe\">\n",
       "  <thead>\n",
       "    <tr style=\"text-align: right;\">\n",
       "      <th></th>\n",
       "      <th>Country</th>\n",
       "      <th>Country Code</th>\n",
       "      <th>2017</th>\n",
       "      <th>2018</th>\n",
       "      <th>2019</th>\n",
       "    </tr>\n",
       "  </thead>\n",
       "  <tbody>\n",
       "    <tr>\n",
       "      <th>0</th>\n",
       "      <td>Aruba</td>\n",
       "      <td>ABW</td>\n",
       "      <td>1.480481</td>\n",
       "      <td>1.497584</td>\n",
       "      <td>1.533552</td>\n",
       "    </tr>\n",
       "    <tr>\n",
       "      <th>1</th>\n",
       "      <td>Africa Eastern and Southern</td>\n",
       "      <td>AFE</td>\n",
       "      <td>NaN</td>\n",
       "      <td>NaN</td>\n",
       "      <td>NaN</td>\n",
       "    </tr>\n",
       "    <tr>\n",
       "      <th>2</th>\n",
       "      <td>Afghanistan</td>\n",
       "      <td>AFG</td>\n",
       "      <td>17.360185</td>\n",
       "      <td>17.052368</td>\n",
       "      <td>17.134464</td>\n",
       "    </tr>\n",
       "    <tr>\n",
       "      <th>3</th>\n",
       "      <td>Africa Western and Central</td>\n",
       "      <td>AFW</td>\n",
       "      <td>NaN</td>\n",
       "      <td>NaN</td>\n",
       "      <td>NaN</td>\n",
       "    </tr>\n",
       "    <tr>\n",
       "      <th>4</th>\n",
       "      <td>Angola</td>\n",
       "      <td>AGO</td>\n",
       "      <td>107.269989</td>\n",
       "      <td>125.265871</td>\n",
       "      <td>144.052274</td>\n",
       "    </tr>\n",
       "  </tbody>\n",
       "</table>\n",
       "</div>"
      ],
      "text/plain": [
       "                       Country Country Code        2017        2018  \\\n",
       "0                        Aruba          ABW    1.480481    1.497584   \n",
       "1  Africa Eastern and Southern          AFE         NaN         NaN   \n",
       "2                  Afghanistan          AFG   17.360185   17.052368   \n",
       "3   Africa Western and Central          AFW         NaN         NaN   \n",
       "4                       Angola          AGO  107.269989  125.265871   \n",
       "\n",
       "         2019  \n",
       "0    1.533552  \n",
       "1         NaN  \n",
       "2   17.134464  \n",
       "3         NaN  \n",
       "4  144.052274  "
      ]
     },
     "execution_count": 4,
     "metadata": {},
     "output_type": "execute_result"
    }
   ],
   "source": [
    "df = df[[\"Country Name\", \"Country Code\", \"2017\", \"2018\", \"2019\"]]\n",
    "df = df.rename(columns={\"Country Name\": \"Country\"})\n",
    "df.head()"
   ]
  },
  {
   "cell_type": "code",
   "execution_count": 5,
   "metadata": {},
   "outputs": [],
   "source": [
    "df[\"2019\"] = df[\"2019\"].fillna(df[\"2018\"])\n",
    "df[\"2019\"] = df[\"2019\"].fillna(df[\"2017\"])"
   ]
  },
  {
   "cell_type": "code",
   "execution_count": 6,
   "metadata": {},
   "outputs": [],
   "source": [
    "df = df.sort_values(by=\"Country\").reset_index(drop=True)\n",
    "df = df.drop(columns=[\"2017\", \"2018\"])\n",
    "df = df.dropna()"
   ]
  },
  {
   "cell_type": "code",
   "execution_count": 7,
   "metadata": {},
   "outputs": [],
   "source": [
    "curr = pd.read_csv(\"countries.csv\")"
   ]
  },
  {
   "cell_type": "code",
   "execution_count": 8,
   "metadata": {},
   "outputs": [
    {
     "data": {
      "text/plain": [
       "Index(['name', 'name_fr', 'ISO3166-1-Alpha-2', 'ISO3166-1-Alpha-3',\n",
       "       'ISO3166-1-numeric', 'ITU', 'MARC', 'WMO', 'DS', 'Dial', 'FIFA', 'FIPS',\n",
       "       'GAUL', 'IOC', 'currency_alphabetic_code', 'currency_country_name',\n",
       "       'currency_minor_unit', 'currency_name', 'currency_numeric_code',\n",
       "       'is_independent'],\n",
       "      dtype='object')"
      ]
     },
     "execution_count": 8,
     "metadata": {},
     "output_type": "execute_result"
    }
   ],
   "source": [
    "curr.columns"
   ]
  },
  {
   "cell_type": "code",
   "execution_count": 9,
   "metadata": {},
   "outputs": [],
   "source": [
    "curr = curr[[\"name\", \"ITU\", \"currency_alphabetic_code\", \"currency_name\"]]\n",
    "curr = curr.rename(columns={\"name\":\"Country\", \"currency_alphabetic_code\":\"Currency\", \"currency_name\": \"Currency Name\"})"
   ]
  },
  {
   "cell_type": "code",
   "execution_count": 10,
   "metadata": {},
   "outputs": [],
   "source": [
    "s1 = pd.merge(df, curr, on=[\"Country\"])"
   ]
  },
  {
   "cell_type": "code",
   "execution_count": 11,
   "metadata": {},
   "outputs": [],
   "source": [
    "final = pd.merge(df, s1, on=[\"Country\"])"
   ]
  },
  {
   "cell_type": "code",
   "execution_count": 12,
   "metadata": {},
   "outputs": [
    {
     "name": "stderr",
     "output_type": "stream",
     "text": [
      "C:\\Users\\prabo\\AppData\\Local\\Temp\\ipykernel_18160\\3792912422.py:1: FutureWarning: The default value of regex will change from True to False in a future version.\n",
      "  final.columns = final.columns.str.replace(r'_x$', '')\n",
      "C:\\Users\\prabo\\AppData\\Local\\Temp\\ipykernel_18160\\3792912422.py:2: FutureWarning: The default value of regex will change from True to False in a future version.\n",
      "  final.columns = final.columns.str.replace(r'_y$', '')\n"
     ]
    }
   ],
   "source": [
    "final.columns = final.columns.str.replace(r'_x$', '')\n",
    "final.columns = final.columns.str.replace(r'_y$', '')\n",
    "final = final.loc[:, ~final.columns.duplicated()]"
   ]
  },
  {
   "cell_type": "code",
   "execution_count": 13,
   "metadata": {},
   "outputs": [
    {
     "data": {
      "text/html": [
       "<div>\n",
       "<style scoped>\n",
       "    .dataframe tbody tr th:only-of-type {\n",
       "        vertical-align: middle;\n",
       "    }\n",
       "\n",
       "    .dataframe tbody tr th {\n",
       "        vertical-align: top;\n",
       "    }\n",
       "\n",
       "    .dataframe thead th {\n",
       "        text-align: right;\n",
       "    }\n",
       "</style>\n",
       "<table border=\"1\" class=\"dataframe\">\n",
       "  <thead>\n",
       "    <tr style=\"text-align: right;\">\n",
       "      <th></th>\n",
       "      <th>Country</th>\n",
       "      <th>Country Code</th>\n",
       "      <th>2019</th>\n",
       "      <th>ITU</th>\n",
       "      <th>Currency</th>\n",
       "      <th>Currency Name</th>\n",
       "    </tr>\n",
       "  </thead>\n",
       "  <tbody>\n",
       "    <tr>\n",
       "      <th>0</th>\n",
       "      <td>Afghanistan</td>\n",
       "      <td>AFG</td>\n",
       "      <td>17.134464</td>\n",
       "      <td>AFG</td>\n",
       "      <td>AFN</td>\n",
       "      <td>Afghani</td>\n",
       "    </tr>\n",
       "    <tr>\n",
       "      <th>1</th>\n",
       "      <td>Albania</td>\n",
       "      <td>ALB</td>\n",
       "      <td>53.392465</td>\n",
       "      <td>ALB</td>\n",
       "      <td>ALL</td>\n",
       "      <td>Lek</td>\n",
       "    </tr>\n",
       "    <tr>\n",
       "      <th>2</th>\n",
       "      <td>Algeria</td>\n",
       "      <td>DZA</td>\n",
       "      <td>38.944652</td>\n",
       "      <td>ALG</td>\n",
       "      <td>DZD</td>\n",
       "      <td>Algerian Dinar</td>\n",
       "    </tr>\n",
       "    <tr>\n",
       "      <th>3</th>\n",
       "      <td>Angola</td>\n",
       "      <td>AGO</td>\n",
       "      <td>144.052274</td>\n",
       "      <td>AGL</td>\n",
       "      <td>AOA</td>\n",
       "      <td>Kwanza</td>\n",
       "    </tr>\n",
       "    <tr>\n",
       "      <th>4</th>\n",
       "      <td>Antigua and Barbuda</td>\n",
       "      <td>ATG</td>\n",
       "      <td>2.429231</td>\n",
       "      <td>ATG</td>\n",
       "      <td>XCD</td>\n",
       "      <td>East Caribbean Dollar</td>\n",
       "    </tr>\n",
       "  </tbody>\n",
       "</table>\n",
       "</div>"
      ],
      "text/plain": [
       "               Country Country Code        2019  ITU Currency  \\\n",
       "0          Afghanistan          AFG   17.134464  AFG      AFN   \n",
       "1              Albania          ALB   53.392465  ALB      ALL   \n",
       "2              Algeria          DZA   38.944652  ALG      DZD   \n",
       "3               Angola          AGO  144.052274  AGL      AOA   \n",
       "4  Antigua and Barbuda          ATG    2.429231  ATG      XCD   \n",
       "\n",
       "           Currency Name  \n",
       "0                Afghani  \n",
       "1                    Lek  \n",
       "2         Algerian Dinar  \n",
       "3                 Kwanza  \n",
       "4  East Caribbean Dollar  "
      ]
     },
     "execution_count": 13,
     "metadata": {},
     "output_type": "execute_result"
    }
   ],
   "source": [
    "final.head()"
   ]
  },
  {
   "cell_type": "code",
   "execution_count": 14,
   "metadata": {},
   "outputs": [
    {
     "data": {
      "text/html": [
       "<div>\n",
       "<style scoped>\n",
       "    .dataframe tbody tr th:only-of-type {\n",
       "        vertical-align: middle;\n",
       "    }\n",
       "\n",
       "    .dataframe tbody tr th {\n",
       "        vertical-align: top;\n",
       "    }\n",
       "\n",
       "    .dataframe thead th {\n",
       "        text-align: right;\n",
       "    }\n",
       "</style>\n",
       "<table border=\"1\" class=\"dataframe\">\n",
       "  <thead>\n",
       "    <tr style=\"text-align: right;\">\n",
       "      <th></th>\n",
       "      <th>Country</th>\n",
       "      <th>Currency</th>\n",
       "      <th>Currency Name</th>\n",
       "      <th>2019</th>\n",
       "    </tr>\n",
       "  </thead>\n",
       "  <tbody>\n",
       "    <tr>\n",
       "      <th>0</th>\n",
       "      <td>Afghanistan</td>\n",
       "      <td>AFN</td>\n",
       "      <td>Afghani</td>\n",
       "      <td>17.134464</td>\n",
       "    </tr>\n",
       "    <tr>\n",
       "      <th>1</th>\n",
       "      <td>Albania</td>\n",
       "      <td>ALL</td>\n",
       "      <td>Lek</td>\n",
       "      <td>53.392465</td>\n",
       "    </tr>\n",
       "    <tr>\n",
       "      <th>2</th>\n",
       "      <td>Algeria</td>\n",
       "      <td>DZD</td>\n",
       "      <td>Algerian Dinar</td>\n",
       "      <td>38.944652</td>\n",
       "    </tr>\n",
       "    <tr>\n",
       "      <th>3</th>\n",
       "      <td>Angola</td>\n",
       "      <td>AOA</td>\n",
       "      <td>Kwanza</td>\n",
       "      <td>144.052274</td>\n",
       "    </tr>\n",
       "    <tr>\n",
       "      <th>4</th>\n",
       "      <td>Antigua and Barbuda</td>\n",
       "      <td>XCD</td>\n",
       "      <td>East Caribbean Dollar</td>\n",
       "      <td>2.429231</td>\n",
       "    </tr>\n",
       "  </tbody>\n",
       "</table>\n",
       "</div>"
      ],
      "text/plain": [
       "               Country Currency          Currency Name        2019\n",
       "0          Afghanistan      AFN                Afghani   17.134464\n",
       "1              Albania      ALL                    Lek   53.392465\n",
       "2              Algeria      DZD         Algerian Dinar   38.944652\n",
       "3               Angola      AOA                 Kwanza  144.052274\n",
       "4  Antigua and Barbuda      XCD  East Caribbean Dollar    2.429231"
      ]
     },
     "execution_count": 14,
     "metadata": {},
     "output_type": "execute_result"
    }
   ],
   "source": [
    "final = final.drop(columns=[\"ITU\"])\n",
    "final = final[[\"Country\", \"Currency\", \"Currency Name\", \"2019\"]]\n",
    "final.head()"
   ]
  },
  {
   "cell_type": "code",
   "execution_count": 15,
   "metadata": {},
   "outputs": [
    {
     "data": {
      "text/plain": [
       "(163, 4)"
      ]
     },
     "execution_count": 15,
     "metadata": {},
     "output_type": "execute_result"
    }
   ],
   "source": [
    "final.shape"
   ]
  },
  {
   "cell_type": "code",
   "execution_count": 16,
   "metadata": {},
   "outputs": [],
   "source": [
    "def convert_by_ppp(source_country, target_country, salary):\n",
    "    return salary / list(final[final[\"Country\"]==source_country][\"2019\"])[0] * list(final[final[\"Country\"]==target_country][\"2019\"])[0]"
   ]
  },
  {
   "cell_type": "code",
   "execution_count": 17,
   "metadata": {},
   "outputs": [
    {
     "data": {
      "text/plain": [
       "199696.5"
      ]
     },
     "execution_count": 17,
     "metadata": {},
     "output_type": "execute_result"
    }
   ],
   "source": [
    "val = convert_by_ppp(\"United States\", \"Canada\", 150000)\n",
    "round(val, 2)"
   ]
  },
  {
   "cell_type": "code",
   "execution_count": 18,
   "metadata": {},
   "outputs": [],
   "source": [
    "final.to_csv(\"data.csv\", index=False)"
   ]
  },
  {
   "cell_type": "code",
   "execution_count": null,
   "metadata": {},
   "outputs": [],
   "source": []
  }
 ],
 "metadata": {
  "kernelspec": {
   "display_name": "Python 3 (ipykernel)",
   "language": "python",
   "name": "python3"
  },
  "language_info": {
   "codemirror_mode": {
    "name": "ipython",
    "version": 3
   },
   "file_extension": ".py",
   "mimetype": "text/x-python",
   "name": "python",
   "nbconvert_exporter": "python",
   "pygments_lexer": "ipython3",
   "version": "3.8.10"
  }
 },
 "nbformat": 4,
 "nbformat_minor": 4
}
